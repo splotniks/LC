{
 "cells": [
  {
   "cell_type": "code",
   "execution_count": 1,
   "id": "f0b84bd2",
   "metadata": {},
   "outputs": [],
   "source": [
    "import inequality_widget as iw"
   ]
  },
  {
   "cell_type": "code",
   "execution_count": 2,
   "id": "0aceafb3",
   "metadata": {},
   "outputs": [
    {
     "data": {
      "application/vnd.jupyter.widget-view+json": {
       "model_id": "03b2d834a73d4447b2c02a9831121a44",
       "version_major": 2,
       "version_minor": 0
      },
      "text/plain": [
       "VBox(children=(HTML(value='Select the number of societies you would like to compare\\n                    <p><e…"
      ]
     },
     "metadata": {},
     "output_type": "display_data"
    }
   ],
   "source": [
    "count = iw.Counter.create()\n",
    "count.container"
   ]
  },
  {
   "cell_type": "code",
   "execution_count": 3,
   "id": "d8041fb9",
   "metadata": {},
   "outputs": [
    {
     "data": {
      "application/vnd.jupyter.widget-view+json": {
       "model_id": "ba410808b4854fcb8ea0e26248f3571d",
       "version_major": 2,
       "version_minor": 0
      },
      "text/plain": [
       "VBox(children=(HTML(value='<h1>Create your own LCs from income distributions</h1>\\n                    <p><em>…"
      ]
     },
     "metadata": {},
     "output_type": "display_data"
    }
   ],
   "source": [
    "iw.multiLC.create(count._num).container"
   ]
  }
 ],
 "metadata": {
  "kernelspec": {
   "display_name": "Python 3",
   "language": "python",
   "name": "python3"
  },
  "language_info": {
   "codemirror_mode": {
    "name": "ipython",
    "version": 3
   },
   "file_extension": ".py",
   "mimetype": "text/x-python",
   "name": "python",
   "nbconvert_exporter": "python",
   "pygments_lexer": "ipython3",
   "version": "3.7.4"
  }
 },
 "nbformat": 4,
 "nbformat_minor": 5
}
